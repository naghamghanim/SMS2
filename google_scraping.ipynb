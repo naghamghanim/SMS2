{
 "cells": [
  {
   "cell_type": "code",
   "execution_count": 2,
   "metadata": {},
   "outputs": [],
   "source": [
    "import requests\n",
    "from bs4 import BeautifulSoup\n",
    "\n",
    "import pandas as pd\n",
    "import time"
   ]
  },
  {
   "cell_type": "code",
   "execution_count": 43,
   "metadata": {
    "scrolled": true
   },
   "outputs": [],
   "source": [
    "i = 0\n",
    "year=str(2021) #search year, put each year that u want to search\n",
    "results = []\n",
    "while i < 10:\n",
    "    query = \"+Hate+speech+detection+OR+Sexism+detection+OR+Cyberbullying+detection+OR+Racism+detection+OR+Abusive+language+detection+OR+Offensive+language+detection\"\n",
    "    url = 'https://scholar.google.com/scholar?start='+str(i)+'&q='+ query + '&hl=sv&as_sdt=0,5&as_ylo='+year+'&as_yhi='+year\n",
    "\n",
    "    content = requests.get(url).text\n",
    "    page = BeautifulSoup(content, 'lxml')\n",
    "    \n",
    "#     print(page)\n",
    "    try:\n",
    "\n",
    "        for entry in page.find_all(\"div\", attrs={\"class\": \"gs_ri\"}):\n",
    "            title = entry.find('h3', attrs={'class': 'gs_rt'})\n",
    "            author = entry.find('div', attrs={'class': 'gs_a'})\n",
    "            abst=entry.find('div', attrs={'class': 'gs_rs'})\n",
    "            cite=entry.find('div', attrs={'class': 'gs_fl'})\n",
    "            results.append({\"title\": title.text, \"url\": entry.a['href'],'authors':author.text, 'abstract':abst.text,'citation':cite.text.replace('Citerat av','')[0:5],'years':year})\n",
    "        \n",
    "    except:\n",
    "        print(\"An exception occurred\")\n",
    "        print(i)\n",
    "    time.sleep(5) #delay timer for sleep, google scholar bloks ip    \n",
    "    i=i+10\n",
    "    \n",
    "\n",
    "    \n",
    "df = pd.DataFrame(results)\n"
   ]
  },
  {
   "cell_type": "code",
   "execution_count": 44,
   "metadata": {},
   "outputs": [
    {
     "name": "stdout",
     "output_type": "stream",
     "text": [
      "<!DOCTYPE html PUBLIC \"-//W3C//DTD HTML 4.01 Transitional//EN\">\n",
      "<html dir=\"LTR\">\n",
      "<head><meta content=\"text/html; charset=utf-8\" http-equiv=\"content-type\"/><meta content=\"initial-scale=1\" name=\"viewport\"/><title>https://scholar.google.com/scholar?start=0&amp;q=+Hate+speech+detection+OR+Sexism+detection+OR+Cyberbullying+detection+OR+Racism+detection+OR+Abusive+language+detection+OR+Offensive+language+detection&amp;hl=sv&amp;as_sdt=0,5&amp;as_ylo=2021&amp;as_yhi=2021</title></head>\n",
      "<body onload=\"e=document.getElementById('captcha');if(e){e.focus();}\" style=\"font-family: arial, sans-serif; background-color: #fff; color: #000; padding:20px; font-size:18px;\">\n",
      "<div style=\"max-width:400px;\">\n",
      "<hr noshade=\"\" size=\"1\" style=\"color:#ccc; background-color:#ccc;\"/><br/>\n",
      "<form action=\"index\" id=\"captcha-form\" method=\"post\">\n",
      "<script async=\"\" defer=\"\" src=\"https://www.google.com/recaptcha/api.js\"></script>\n",
      "<script>var submitCallback = function(response) {document.getElementById('captcha-form').submit();};</script>\n",
      "<div class=\"g-recaptcha\" data-callback=\"submitCallback\" data-s=\"FEbs-ZVzv8Mxo_-dl6ay7HUnXnhI3Ef1anD-Lc8eYrpCnSl3sOSgee9Xo7vXFUhKwVauzrDXbrRVndXavhXCWDKCtlCH2dOsh9EauDDBf-KXh07znM9jU1Kow64ndQH5h5fIKPUbmWDN7LWE_sT3pZhtzjvn5EYchKXVVfYOmhbAlCG4olxlFaSX4dGsdPhG7K-ar3oLKzKa9L_NfHUkUxkJIjAZQvLUWdtDWJco2kTftSeAHoRKRVk\" data-sitekey=\"6LfwuyUTAAAAAOAmoS0fdqijC2PbbdH4kjq62Y1b\" id=\"recaptcha\"></div>\n",
      "<input name=\"q\" type=\"hidden\" value=\"EgRXZNVvGKzBuYIGIhkA8aeDS6szRCZoiAeN69eQdHtwWELauiUVMgFy\"/><input name=\"continue\" type=\"hidden\" value=\"https://scholar.google.com/scholar?start=0&amp;q=+Hate+speech+detection+OR+Sexism+detection+OR+Cyberbullying+detection+OR+Racism+detection+OR+Abusive+language+detection+OR+Offensive+language+detection&amp;hl=sv&amp;as_sdt=0,5&amp;as_ylo=2021&amp;as_yhi=2021\"/>\n",
      "</form>\n",
      "<hr noshade=\"\" size=\"1\" style=\"color:#ccc; background-color:#ccc;\"/>\n",
      "<div style=\"font-size:13px;\">\n",
      "<b>Om den hÃ¤r sidan</b><br/><br/>\n",
      "\n",
      "VÃ¥ra system har upptÃ¤ckt ovanlig trafik frÃ¥n ditt nÃ¤tverk. Den hÃ¤r sidan kontrollerar att det inte Ã¤r en robot, utan du, som skickar begÃ¤randen. <a href=\"#\" onclick=\"document.getElementById('infoDiv').style.display='block';\">VarfÃ¶r hÃ¤nde detta?</a><br/><br/>\n",
      "<div id=\"infoDiv\" style=\"display:none; background-color:#eee; padding:10px; margin:0 0 15px 0; line-height:1.4em;\">\n",
      "Den hÃ¤r sidan visas nÃ¤r Google upptÃ¤cker automatiskt att det skickas begÃ¤randen frÃ¥n ditt nÃ¤tverk som strider mot vÃ¥ra <a href=\"//www.google.com/policies/terms/\">anvÃ¤ndarvillkor</a>. Blockeringen upphÃ¶r strax efter det att dessa begÃ¤randen inte lÃ¤ngre skickas. Under tiden kan du fortsÃ¤tta att anvÃ¤nda vÃ¥ra tjÃ¤nster genom att lÃ¶sa ovanstÃ¥ende CAPTCHA.<br/><br/>Den hÃ¤r trafiken kan ha skickats av skadlig programvara, ett plugin-program i webblÃ¤saren eller ett skript som skickar automatiska begÃ¤randen. Om du delar nÃ¤tverksanslutning ber du din administratÃ¶r om hjÃ¤lp. Det kan hÃ¤nda att trafiken skickas frÃ¥n en annan dator som anvÃ¤nder samma IP-adress. <a href=\"//support.google.com/websearch/answer/86640\">LÃ¤s mer</a><br/><br/>Om du skickar begÃ¤randen snabbt eller anvÃ¤nder avancerade sÃ¶ktermer som ofta anvÃ¤nds av robotar, kan det ibland hÃ¤nda att du behÃ¶ver lÃ¶sa en CAPTCHA.\n",
      "\n",
      "</div><br/>\n",
      "IP-adress: 87.100.213.111<br/>Tid: 2021-03-14T19:14:52Z<br/>Webbadress: https://scholar.google.com/scholar?start=0&amp;q=+Hate+speech+detection+OR+Sexism+detection+OR+Cyberbullying+detection+OR+Racism+detection+OR+Abusive+language+detection+OR+Offensive+language+detection&amp;hl=sv&amp;as_sdt=0,5&amp;as_ylo=2021&amp;as_yhi=2021<br/>\n",
      "</div></div>\n",
      "</body>\n",
      "</html>\n",
      "\n"
     ]
    }
   ],
   "source": [
    "print(page)"
   ]
  },
  {
   "cell_type": "code",
   "execution_count": 45,
   "metadata": {
    "scrolled": true
   },
   "outputs": [
    {
     "data": {
      "text/plain": [
       "0"
      ]
     },
     "execution_count": 45,
     "metadata": {},
     "output_type": "execute_result"
    }
   ],
   "source": [
    "len(df)"
   ]
  },
  {
   "cell_type": "code",
   "execution_count": 34,
   "metadata": {},
   "outputs": [
    {
     "data": {
      "text/html": [
       "<div>\n",
       "<style scoped>\n",
       "    .dataframe tbody tr th:only-of-type {\n",
       "        vertical-align: middle;\n",
       "    }\n",
       "\n",
       "    .dataframe tbody tr th {\n",
       "        vertical-align: top;\n",
       "    }\n",
       "\n",
       "    .dataframe thead th {\n",
       "        text-align: right;\n",
       "    }\n",
       "</style>\n",
       "<table border=\"1\" class=\"dataframe\">\n",
       "  <thead>\n",
       "    <tr style=\"text-align: right;\">\n",
       "      <th></th>\n",
       "    </tr>\n",
       "  </thead>\n",
       "  <tbody>\n",
       "  </tbody>\n",
       "</table>\n",
       "</div>"
      ],
      "text/plain": [
       "Empty DataFrame\n",
       "Columns: []\n",
       "Index: []"
      ]
     },
     "execution_count": 34,
     "metadata": {},
     "output_type": "execute_result"
    }
   ],
   "source": [
    "df"
   ]
  },
  {
   "cell_type": "code",
   "execution_count": 28,
   "metadata": {},
   "outputs": [],
   "source": [
    "# df.to_csv('google_data.csv', index=False)\n",
    "df.to_csv('google_data.csv',mode='a',header=False, index=False)"
   ]
  },
  {
   "cell_type": "code",
   "execution_count": 29,
   "metadata": {},
   "outputs": [
    {
     "data": {
      "text/html": [
       "<div>\n",
       "<style scoped>\n",
       "    .dataframe tbody tr th:only-of-type {\n",
       "        vertical-align: middle;\n",
       "    }\n",
       "\n",
       "    .dataframe tbody tr th {\n",
       "        vertical-align: top;\n",
       "    }\n",
       "\n",
       "    .dataframe thead th {\n",
       "        text-align: right;\n",
       "    }\n",
       "</style>\n",
       "<table border=\"1\" class=\"dataframe\">\n",
       "  <thead>\n",
       "    <tr style=\"text-align: right;\">\n",
       "      <th></th>\n",
       "      <th>title</th>\n",
       "      <th>url</th>\n",
       "      <th>authors</th>\n",
       "      <th>abstract</th>\n",
       "      <th>citation</th>\n",
       "    </tr>\n",
       "  </thead>\n",
       "  <tbody>\n",
       "    <tr>\n",
       "      <th>0</th>\n",
       "      <td>Automated hate speech detection and the proble...</td>\n",
       "      <td>https://ojs.aaai.org/index.php/ICWSM/article/v...</td>\n",
       "      <td>T Davidson, D Warmsley, M Macy… - Proceedings ...</td>\n",
       "      <td>… In the United States, hate speech is protect...</td>\n",
       "      <td>93</td>\n",
       "    </tr>\n",
       "    <tr>\n",
       "      <th>1</th>\n",
       "      <td>[PDF][PDF] A survey on hate speech detection u...</td>\n",
       "      <td>https://www.aclweb.org/anthology/W17-1101.pdf</td>\n",
       "      <td>A Schmidt, M Wiegand - … fifth international w...</td>\n",
       "      <td>… One work concerned with crime prediction is ...</td>\n",
       "      <td>53</td>\n",
       "    </tr>\n",
       "    <tr>\n",
       "      <th>2</th>\n",
       "      <td>Deep learning for hate speech detection in tweets</td>\n",
       "      <td>https://dl.acm.org/doi/abs/10.1145/3041021.305...</td>\n",
       "      <td>P Badjatiya, S Gupta, M Gupta, V Varma - Proce...</td>\n",
       "      <td>… experimented with mul- 2http://nlp.stanford....</td>\n",
       "      <td>50</td>\n",
       "    </tr>\n",
       "    <tr>\n",
       "      <th>3</th>\n",
       "      <td>Hate speech detection with comment embeddings</td>\n",
       "      <td>https://dl.acm.org/doi/abs/10.1145/2740908.274...</td>\n",
       "      <td>N Djuric, J Zhou, R Morris, M Grbovic… - Proce...</td>\n",
       "      <td>… However, due to inter- net's non-restrictive...</td>\n",
       "      <td>40</td>\n",
       "    </tr>\n",
       "    <tr>\n",
       "      <th>4</th>\n",
       "      <td>[PDF][PDF] Hateful symbols or hateful people? ...</td>\n",
       "      <td>https://www.aclweb.org/anthology/N16-2013.pdf</td>\n",
       "      <td>Z Waseem, D Hovy - Proceedings of the NAACL st...</td>\n",
       "      <td>… Social media sites therefore face the proble...</td>\n",
       "      <td>65</td>\n",
       "    </tr>\n",
       "    <tr>\n",
       "      <th>...</th>\n",
       "      <td>...</td>\n",
       "      <td>...</td>\n",
       "      <td>...</td>\n",
       "      <td>...</td>\n",
       "      <td>...</td>\n",
       "    </tr>\n",
       "    <tr>\n",
       "      <th>671</th>\n",
       "      <td>Sentence-level emotion detection framework usi...</td>\n",
       "      <td>https://link.springer.com/article/10.1007/s125...</td>\n",
       "      <td>MZ Asghar, A Khan, A Bibi, FM Kundi, H Ahmad -...</td>\n",
       "      <td>… An emotion is a feeling of joy, sorrow, fear...</td>\n",
       "      <td>31</td>\n",
       "    </tr>\n",
       "    <tr>\n",
       "      <th>672</th>\n",
       "      <td>Voice pathology detection using interlaced der...</td>\n",
       "      <td>https://www.sciencedirect.com/science/article/...</td>\n",
       "      <td>G Muhammad, M Alsulaiman, Z Ali, TA Mesallam… ...</td>\n",
       "      <td>… This is due to its non-invasive nature, free...</td>\n",
       "      <td>63</td>\n",
       "    </tr>\n",
       "    <tr>\n",
       "      <th>673</th>\n",
       "      <td>[HTML][HTML] Vision-based active speaker detec...</td>\n",
       "      <td>https://www.diva-portal.org/smash/record.jsf?p...</td>\n",
       "      <td>K Stefanov, J Beskow, G Salvi - Grounding Lang...</td>\n",
       "      <td>… thesis has two main contributions with respe...</td>\n",
       "      <td>13</td>\n",
       "    </tr>\n",
       "    <tr>\n",
       "      <th>674</th>\n",
       "      <td>A measurement study of hate speech in social m...</td>\n",
       "      <td>https://dl.acm.org/doi/abs/10.1145/3078714.307...</td>\n",
       "      <td>M Mondal, LA Silva, F Benevenuto - … of the 28...</td>\n",
       "      <td>… As example, “Secret” was created, in part, t...</td>\n",
       "      <td>13</td>\n",
       "    </tr>\n",
       "    <tr>\n",
       "      <th>675</th>\n",
       "      <td>Real-time event detection for online behaviora...</td>\n",
       "      <td>https://www.sciencedirect.com/science/article/...</td>\n",
       "      <td>DT Nguyen, JE Jung - Future Generation Compute...</td>\n",
       "      <td>… They aimed to identify crime- and disaster-r...</td>\n",
       "      <td>10</td>\n",
       "    </tr>\n",
       "  </tbody>\n",
       "</table>\n",
       "<p>676 rows × 5 columns</p>\n",
       "</div>"
      ],
      "text/plain": [
       "                                                 title  \\\n",
       "0    Automated hate speech detection and the proble...   \n",
       "1    [PDF][PDF] A survey on hate speech detection u...   \n",
       "2    Deep learning for hate speech detection in tweets   \n",
       "3        Hate speech detection with comment embeddings   \n",
       "4    [PDF][PDF] Hateful symbols or hateful people? ...   \n",
       "..                                                 ...   \n",
       "671  Sentence-level emotion detection framework usi...   \n",
       "672  Voice pathology detection using interlaced der...   \n",
       "673  [HTML][HTML] Vision-based active speaker detec...   \n",
       "674  A measurement study of hate speech in social m...   \n",
       "675  Real-time event detection for online behaviora...   \n",
       "\n",
       "                                                   url  \\\n",
       "0    https://ojs.aaai.org/index.php/ICWSM/article/v...   \n",
       "1        https://www.aclweb.org/anthology/W17-1101.pdf   \n",
       "2    https://dl.acm.org/doi/abs/10.1145/3041021.305...   \n",
       "3    https://dl.acm.org/doi/abs/10.1145/2740908.274...   \n",
       "4        https://www.aclweb.org/anthology/N16-2013.pdf   \n",
       "..                                                 ...   \n",
       "671  https://link.springer.com/article/10.1007/s125...   \n",
       "672  https://www.sciencedirect.com/science/article/...   \n",
       "673  https://www.diva-portal.org/smash/record.jsf?p...   \n",
       "674  https://dl.acm.org/doi/abs/10.1145/3078714.307...   \n",
       "675  https://www.sciencedirect.com/science/article/...   \n",
       "\n",
       "                                               authors  \\\n",
       "0    T Davidson, D Warmsley, M Macy… - Proceedings ...   \n",
       "1    A Schmidt, M Wiegand - … fifth international w...   \n",
       "2    P Badjatiya, S Gupta, M Gupta, V Varma - Proce...   \n",
       "3    N Djuric, J Zhou, R Morris, M Grbovic… - Proce...   \n",
       "4    Z Waseem, D Hovy - Proceedings of the NAACL st...   \n",
       "..                                                 ...   \n",
       "671  MZ Asghar, A Khan, A Bibi, FM Kundi, H Ahmad -...   \n",
       "672  G Muhammad, M Alsulaiman, Z Ali, TA Mesallam… ...   \n",
       "673  K Stefanov, J Beskow, G Salvi - Grounding Lang...   \n",
       "674  M Mondal, LA Silva, F Benevenuto - … of the 28...   \n",
       "675  DT Nguyen, JE Jung - Future Generation Compute...   \n",
       "\n",
       "                                              abstract citation  \n",
       "0    … In the United States, hate speech is protect...       93  \n",
       "1    … One work concerned with crime prediction is ...       53  \n",
       "2    … experimented with mul- 2http://nlp.stanford....       50  \n",
       "3    … However, due to inter- net's non-restrictive...       40  \n",
       "4    … Social media sites therefore face the proble...       65  \n",
       "..                                                 ...      ...  \n",
       "671  … An emotion is a feeling of joy, sorrow, fear...       31  \n",
       "672  … This is due to its non-invasive nature, free...       63  \n",
       "673  … thesis has two main contributions with respe...       13  \n",
       "674  … As example, “Secret” was created, in part, t...       13  \n",
       "675  … They aimed to identify crime- and disaster-r...       10  \n",
       "\n",
       "[676 rows x 5 columns]"
      ]
     },
     "execution_count": 29,
     "metadata": {},
     "output_type": "execute_result"
    }
   ],
   "source": [
    "pd.read_csv('google_data.csv')"
   ]
  }
 ],
 "metadata": {
  "kernelspec": {
   "display_name": "Python 3",
   "language": "python",
   "name": "python3"
  },
  "language_info": {
   "codemirror_mode": {
    "name": "ipython",
    "version": 3
   },
   "file_extension": ".py",
   "mimetype": "text/x-python",
   "name": "python",
   "nbconvert_exporter": "python",
   "pygments_lexer": "ipython3",
   "version": "3.8.3"
  }
 },
 "nbformat": 4,
 "nbformat_minor": 4
}
